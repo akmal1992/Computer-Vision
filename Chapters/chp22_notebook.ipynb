{
 "cells": [
  {
   "cell_type": "code",
   "execution_count": 14,
   "metadata": {},
   "outputs": [],
   "source": [
    "import cv2\n",
    "import numpy as np"
   ]
  },
  {
   "cell_type": "code",
   "execution_count": 17,
   "metadata": {},
   "outputs": [],
   "source": [
    "original = cv2.imread(\"image1.jpg\")\n",
    "image_to_compare = cv2.imread(\"image2.jpg\")"
   ]
  },
  {
   "cell_type": "code",
   "execution_count": 18,
   "metadata": {},
   "outputs": [],
   "source": [
    "# 1) Check if 2 images are equals\n",
    "if original.shape == image_to_compare.shape:\n",
    "    print(\"The images have same size and channels\")\n",
    "    difference = cv2.subtract(original, image_to_compare)\n",
    "    b, g, r = cv2.split(difference)\n",
    "    if cv2.countNonZero(b) == 0 and cv2.countNonZero(g) == 0 and cv2.countNonZero(r) == 0:\n",
    "        print(\"The images are completely Equal\")\n",
    "    else:\n",
    "        print(\"The images are NOT equal\")"
   ]
  },
  {
   "cell_type": "code",
   "execution_count": null,
   "metadata": {},
   "outputs": [
    {
     "name": "stdout",
     "output_type": "stream",
     "text": [
      "Keypoints 1ST Image: 239\n",
      "Keypoints 2ND Image: 198\n",
      "GOOD Matches: 22\n",
      "How good it's the match:  11.11111111111111\n"
     ]
    }
   ],
   "source": [
    "# 2) Check for similarities between the 2 images\n",
    "sift = cv2.xfeatures2d.SIFT_create()\n",
    "kp_1, desc_1 = sift.detectAndCompute(original, None)\n",
    "kp_2, desc_2 = sift.detectAndCompute(image_to_compare, None)\n",
    "index_params = dict(algorithm=0, trees=5)\n",
    "search_params = dict()\n",
    "flann = cv2.FlannBasedMatcher(index_params, search_params)\n",
    "matches = flann.knnMatch(desc_1, desc_2, k=2)\n",
    "good_points = []\n",
    "for m, n in matches:\n",
    "    if m.distance < 0.6*n.distance:\n",
    "        good_points.append(m)\n",
    "# Define how similar they are\n",
    "number_keypoints = 0\n",
    "if len(kp_1) <= len(kp_2):\n",
    "    number_keypoints = len(kp_1)\n",
    "else:\n",
    "    number_keypoints = len(kp_2)\n",
    "print(\"Keypoints 1ST Image: \" + str(len(kp_1)))\n",
    "print(\"Keypoints 2ND Image: \" + str(len(kp_2)))\n",
    "print(\"GOOD Matches:\", len(good_points))\n",
    "print(\"How good it's the match: \", len(good_points) / number_keypoints * 100)\n",
    "result = cv2.drawMatches(original, kp_1, image_to_compare, kp_2, good_points, None)\n",
    "cv2.imshow(\"result\", cv2.resize(result, None, fx=0.4, fy=0.4))\n",
    "cv2.imwrite(\"feature_matching.jpg\", result)\n",
    "cv2.imshow(\"Original\", cv2.resize(original, None, fx=0.4, fy=0.4))\n",
    "cv2.imshow(\"Duplicate\", cv2.resize(image_to_compare, None, fx=0.4, fy=0.4))\n",
    "cv2.waitKey(0)\n",
    "cv2.destroyAllWindows()"
   ]
  },
  {
   "cell_type": "code",
   "execution_count": null,
   "metadata": {},
   "outputs": [],
   "source": []
  }
 ],
 "metadata": {
  "kernelspec": {
   "display_name": "Python 3",
   "language": "python",
   "name": "python3"
  },
  "language_info": {
   "codemirror_mode": {
    "name": "ipython",
    "version": 3
   },
   "file_extension": ".py",
   "mimetype": "text/x-python",
   "name": "python",
   "nbconvert_exporter": "python",
   "pygments_lexer": "ipython3",
   "version": "3.7.3"
  },
  "widgets": {
   "state": {},
   "version": "1.1.2"
  }
 },
 "nbformat": 4,
 "nbformat_minor": 2
}
